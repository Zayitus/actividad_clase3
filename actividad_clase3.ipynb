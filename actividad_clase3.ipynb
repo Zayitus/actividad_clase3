{
 "cells": [
  {
   "cell_type": "markdown",
   "metadata": {},
   "source": [
    "# Actividad clase 3 ##"
   ]
  },
  {
   "cell_type": "markdown",
   "metadata": {},
   "source": [
    "##### Lista de nombre de ciudades #####"
   ]
  },
  {
   "cell_type": "code",
   "execution_count": 59,
   "metadata": {},
   "outputs": [],
   "source": [
    "ciudades = [\"Londres\", \"Nueva York\", \"París\", \"Tokio\", \"Rio Grande\",\n",
    "            \"Buenos Aires\", \"Madrid\", \"Roma\", \"San Pablo\", \"Ushuaia\"]"
   ]
  },
  {
   "cell_type": "markdown",
   "metadata": {},
   "source": [
    "##### Diccionario de empleados #####"
   ]
  },
  {
   "cell_type": "code",
   "execution_count": 60,
   "metadata": {},
   "outputs": [],
   "source": [
    "empleados = {\n",
    "    \"Juan Pérez\": {\n",
    "        \"cargo\": \"Desarrollador de software\",\n",
    "        \"salario\": 2500000\n",
    "    },\n",
    "    \"Analia Gómez\": {\n",
    "        \"cargo\": \"Analista de datos\",\n",
    "        \"salario\": 2800000\n",
    "    },\n",
    "    \"Esteban Gutiérrez\": {\n",
    "        \"cargo\": \"Diseñador gráfico\",\n",
    "        \"salario\": 1100000\n",
    "    },\n",
    "    \"Marcos Martínez\": {\n",
    "        \"cargo\": \"Especialista en marketing\",\n",
    "        \"salario\": 2700000\n",
    "    },\n",
    "    \"Pedro Suarez\": {\n",
    "        \"cargo\": \"Contador\",\n",
    "        \"salario\": 3000000\n",
    "    }\n",
    "}"
   ]
  },
  {
   "cell_type": "markdown",
   "metadata": {},
   "source": [
    "##### acceso a lista y diccionario #####"
   ]
  },
  {
   "cell_type": "code",
   "execution_count": 61,
   "metadata": {},
   "outputs": [
    {
     "data": {
      "text/plain": [
       "'Nueva York'"
      ]
     },
     "execution_count": 61,
     "metadata": {},
     "output_type": "execute_result"
    }
   ],
   "source": [
    "ciudades [1]"
   ]
  },
  {
   "cell_type": "code",
   "execution_count": 62,
   "metadata": {},
   "outputs": [
    {
     "name": "stdout",
     "output_type": "stream",
     "text": [
      "Desarrollador de software\n"
     ]
    }
   ],
   "source": [
    "print(cargo_juan_perez)"
   ]
  },
  {
   "cell_type": "markdown",
   "metadata": {},
   "source": [
    "#### Manipulación de Listas y Métodos ####\n",
    "\n"
   ]
  },
  {
   "cell_type": "code",
   "execution_count": 63,
   "metadata": {},
   "outputs": [
    {
     "name": "stdout",
     "output_type": "stream",
     "text": [
      "[1, 2, 3, 4, 5, 6, 7, 8, 9, 10]\n"
     ]
    }
   ],
   "source": [
    "lista_numeros = [1,2,3,4,5,6,7,8,9,10]\n",
    "print(lista_numeros)"
   ]
  },
  {
   "cell_type": "code",
   "execution_count": 64,
   "metadata": {},
   "outputs": [
    {
     "name": "stdout",
     "output_type": "stream",
     "text": [
      "[1, 2, 3, 4, 5, 6, 7, 8, 9, 10, 150]\n"
     ]
    }
   ],
   "source": [
    "lista_numeros.append(150)\n",
    "print(lista_numeros)"
   ]
  },
  {
   "cell_type": "code",
   "execution_count": 65,
   "metadata": {},
   "outputs": [
    {
     "name": "stdout",
     "output_type": "stream",
     "text": [
      "[1, 2, 3, 4, 5, 6, 7, 8, 9, 10, 150, 160, 130, 24]\n"
     ]
    }
   ],
   "source": [
    "nuevos_numeros = [160, 130, 24]\n",
    "lista_numeros.extend(nuevos_numeros)\n",
    "print(lista_numeros)"
   ]
  },
  {
   "cell_type": "code",
   "execution_count": 66,
   "metadata": {},
   "outputs": [
    {
     "name": "stdout",
     "output_type": "stream",
     "text": [
      "[1, 2, 0, 3, 4, 5, 6, 7, 8, 9, 10, 150, 160, 130, 24]\n"
     ]
    }
   ],
   "source": [
    "lista_numeros.insert(2, 0)\n",
    "print(lista_numeros)"
   ]
  },
  {
   "cell_type": "code",
   "execution_count": 67,
   "metadata": {},
   "outputs": [
    {
     "name": "stdout",
     "output_type": "stream",
     "text": [
      "[0, 1, 2, 3, 4, 5, 6, 7, 8, 9, 10, 24, 130, 150, 160]\n"
     ]
    }
   ],
   "source": [
    "lista_numeros.sort()\n",
    "print(lista_numeros)"
   ]
  },
  {
   "cell_type": "markdown",
   "metadata": {},
   "source": [
    "#### Manipulación de Diccionarios y Métodos ####"
   ]
  },
  {
   "cell_type": "code",
   "execution_count": 68,
   "metadata": {},
   "outputs": [
    {
     "name": "stdout",
     "output_type": "stream",
     "text": [
      "{'Notebook': {'precio': 2500000, 'stock': 12}, 'Tablet': {'precio': 1200000, 'stock': 35}, 'Celular': {'precio': 1000000, 'stock': 28}, 'Parlante': {'precio': 135000, 'stock': 15}}\n"
     ]
    }
   ],
   "source": [
    "productos = {\n",
    "    \"Notebook\": {\"precio\": 2500000, \"stock\": 12},\n",
    "    \"Tablet\": {\"precio\": 1200000, \"stock\": 35},\n",
    "    \"Celular\": {\"precio\": 1000000, \"stock\": 28},\n",
    "    \"Parlante\": {\"precio\": 135000, \"stock\": 15}\n",
    "}\n",
    "print(productos)"
   ]
  },
  {
   "cell_type": "code",
   "execution_count": 69,
   "metadata": {},
   "outputs": [
    {
     "name": "stdout",
     "output_type": "stream",
     "text": [
      "dict_keys(['Notebook', 'Tablet', 'Celular', 'Parlante'])\n"
     ]
    }
   ],
   "source": [
    "nombres_productos = productos.keys()\n",
    "print (nombres_productos)"
   ]
  },
  {
   "cell_type": "code",
   "execution_count": 70,
   "metadata": {},
   "outputs": [
    {
     "name": "stdout",
     "output_type": "stream",
     "text": [
      "dict_values([{'precio': 2500000, 'stock': 12}, {'precio': 1200000, 'stock': 35}, {'precio': 1000000, 'stock': 28}, {'precio': 135000, 'stock': 15}])\n"
     ]
    }
   ],
   "source": [
    "valores_productos = productos.values()\n",
    "print(valores_productos)"
   ]
  },
  {
   "cell_type": "code",
   "execution_count": 71,
   "metadata": {},
   "outputs": [
    {
     "name": "stdout",
     "output_type": "stream",
     "text": [
      "dict_items([('Notebook', {'precio': 2500000, 'stock': 12}), ('Tablet', {'precio': 1200000, 'stock': 35}), ('Celular', {'precio': 1000000, 'stock': 28}), ('Parlante', {'precio': 135000, 'stock': 15})])\n"
     ]
    }
   ],
   "source": [
    "pares_productos = productos.items()\n",
    "print(pares_productos)"
   ]
  },
  {
   "cell_type": "code",
   "execution_count": 72,
   "metadata": {},
   "outputs": [
    {
     "name": "stdout",
     "output_type": "stream",
     "text": [
      "El precio del Celular es: 1000000\n"
     ]
    }
   ],
   "source": [
    "producto_deseado = \"Celular\"\n",
    "precio_producto = productos.get(producto_deseado)\n",
    "\n",
    "if precio_producto is not None:\n",
    "    print(f\"El precio del {producto_deseado} es: {precio_producto['precio']}\")\n",
    "else:\n",
    "    print(\n",
    "        f\"No se encontró el producto '{producto_deseado}' en el diccionario de productos.\")"
   ]
  },
  {
   "cell_type": "markdown",
   "metadata": {},
   "source": [
    "#### Datos Complejos ####"
   ]
  },
  {
   "cell_type": "code",
   "execution_count": 73,
   "metadata": {},
   "outputs": [],
   "source": [
    "libros = [\n",
    "    {\"titulo\": \"Cien años de soledad\",\n",
    "        \"autor\": \"Gabriel García Márquez\", \"año_publicacion\": 1967},\n",
    "    {\"titulo\": \"1984\", \"autor\": \"George Orwell\", \"año_publicacion\": 1949},\n",
    "    {\"titulo\": \"El principito\", \"autor\": \"Antoine de Saint-Exupéry\",\n",
    "        \"año_publicacion\": 1943},\n",
    "    {\"titulo\": \"Don Quijote de la Mancha\",\n",
    "        \"autor\": \"Miguel de Cervantes\", \"año_publicacion\": 1605}\n",
    "]"
   ]
  },
  {
   "cell_type": "code",
   "execution_count": 74,
   "metadata": {},
   "outputs": [],
   "source": [
    "estudiantes_materias = {\n",
    "    \"Juan\": [\"Matemáticas\", \"Física\", \"Química\"],\n",
    "    \"María\": [\"Literatura\", \"Historia\", \"Geografía\"],\n",
    "    \"Pedro\": [\"Programación\", \"Algoritmos\", \"Estructuras de Datos\"]\n",
    "}"
   ]
  },
  {
   "cell_type": "code",
   "execution_count": 75,
   "metadata": {},
   "outputs": [
    {
     "name": "stdout",
     "output_type": "stream",
     "text": [
      "{'Juan': ['Matemáticas', 'Biología', 'Química'], 'María': ['Literatura', 'Historia', 'Geografía'], 'Pedro': ['Programación', 'Algoritmos', 'Estructuras de Datos']}\n"
     ]
    }
   ],
   "source": [
    "# Modificar el segundo elemento de la lista de materias de Juan\n",
    "estudiantes_materias = {\n",
    "    \"Juan\": [\"Matemáticas\", \"Física\", \"Química\"],\n",
    "    \"María\": [\"Literatura\", \"Historia\", \"Geografía\"],\n",
    "    \"Pedro\": [\"Programación\", \"Algoritmos\", \"Estructuras de Datos\"]\n",
    "}\n",
    "\n",
    "# Modificar \"Física\" por \"Biología\" en la lista de materias de Juan\n",
    "estudiantes_materias[\"Juan\"][1] = \"Biología\"\n",
    "\n",
    "print(estudiantes_materias)"
   ]
  },
  {
   "cell_type": "code",
   "execution_count": 76,
   "metadata": {},
   "outputs": [
    {
     "name": "stdout",
     "output_type": "stream",
     "text": [
      "[{'nombre': 'Juan', 'materias': ['Matemáticas', 'Física', 'Química']}, {'nombre': 'Marcela', 'materias': ['Literatura', 'Historia', 'Geografía']}, {'nombre': 'Pedro', 'materias': ['Programación', 'Algoritmos', 'Estructuras de Datos']}]\n"
     ]
    }
   ],
   "source": [
    "# Modificar el nombre de María por \"Marcela\"\n",
    "estudiantes = [\n",
    "    {\"nombre\": \"Juan\", \"materias\": [\"Matemáticas\", \"Física\", \"Química\"]},\n",
    "    {\"nombre\": \"María\", \"materias\": [\"Literatura\", \"Historia\", \"Geografía\"]},\n",
    "    {\"nombre\": \"Pedro\", \"materias\": [\n",
    "        \"Programación\", \"Algoritmos\", \"Estructuras de Datos\"]}\n",
    "]\n",
    "\n",
    "# Modificar el nombre de María por \"Marcela\"\n",
    "estudiantes[1][\"nombre\"] = \"Marcela\"\n",
    "\n",
    "print(estudiantes)"
   ]
  }
 ],
 "metadata": {
  "kernelspec": {
   "display_name": "Python 3",
   "language": "python",
   "name": "python3"
  },
  "language_info": {
   "codemirror_mode": {
    "name": "ipython",
    "version": 3
   },
   "file_extension": ".py",
   "mimetype": "text/x-python",
   "name": "python",
   "nbconvert_exporter": "python",
   "pygments_lexer": "ipython3",
   "version": "3.11.9"
  }
 },
 "nbformat": 4,
 "nbformat_minor": 2
}
